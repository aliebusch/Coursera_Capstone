{
 "cells": [
  {
   "cell_type": "markdown",
   "metadata": {},
   "source": [
    "<h2>A discussion of the background and description of the problem.</h2> "
   ]
  },
  {
   "cell_type": "markdown",
   "metadata": {},
   "source": [
    "Toronto is a vibrant city with many diverse cultures and a booming economy. The citizens of Toronto work hard, have busy lives, and look forward to time for socializing and relaxing. The bars in the Toronto are cater to many in its various neighbourhoods. Opening a bar in Toronto can be very risky so due diligence and planning is highly recommended to mitigate the risks. One of the highest value items in the due diligence review is location. \n",
    "\n",
    "The choice of location will depend on how the bar is to look, what the bar is going to contribute to the community, and the kind of clientele that is expected. Bars in Toronto appear to be more popular in certain neighbourhoods over others. The type of bars also tend to be close to another. This may be due to people preferring alternative choices in the case their first choice is not available, or proximity to their work or residence. The higher value Bar locations may also be located in neighbourhoods of more affluence. We will need to perform some analysis to determine where the best place to open a new bar would be."
   ]
  },
  {
   "cell_type": "markdown",
   "metadata": {},
   "source": [
    "<h2>A description of the data and how it will be used to solve the problem.</h2>"
   ]
  },
  {
   "cell_type": "markdown",
   "metadata": {},
   "source": [
    "In order to perform a location due diligence, bars that are of the same type, and grouped by neighbourhood, can be used in an analysis of potential success. Since we need access to as many potential paying customers as possible, the demographic of the neighbourhood must be taken into consideration. The safety of both the customer and the operation of the business can be associated to crime rate in area as well. This means we need to analyze 4 data sources:\n",
    "\n",
    "1. The types of popular bars currently in the neighbourhoods\n",
    "2. The population of each neighbourhood\n",
    "3. The annual income of the residents of the neighbourhood\n",
    "4. The crime rate in the neighbourhood\n",
    "\n",
    "This Capstone Assignment will use the Venue information collected by Foursquare in order to determine the popular bars currently in the neighbourhoods. The analysis will also use the Neighbourhood Profiles data available from the City of Toronto Wellbeing Data Catalogue (http://map.toronto.ca/wellbeing/) to analyze the population, affluence and crime rate of each neighbourhood. The crime rate is based on robberies since this is the most important issue with owning a bar in Toronto. The boundaries of the Toronto neighbourhoods will be taken from the City of Toronto Open Data Catalogue - Neighbourhoods (https://www.toronto.ca/city-government/data-research-maps/open-data/open-data-catalogue/#a45bd45a-ede8-730e-1abc-93105b2c439f)\n",
    "\n",
    "The first step will be to determine the popular bars currently in the neighbourhoods. Then the Wellbeing Data will be used to determine Neighbourhood Profiles. A map of Toronto will be created with the neighbourhoods outlined and overlayed with a color coding based on the Neighbourhood Profiles data. The popular bars will also be marked on the map. \n",
    "\n",
    "The results will be analyzed and the recommendation(s) for the location of a new bar will be provided in the report conclusion."
   ]
  },
  {
   "cell_type": "code",
   "execution_count": null,
   "metadata": {},
   "outputs": [],
   "source": []
  }
 ],
 "metadata": {
  "kernelspec": {
   "display_name": "Python 3",
   "language": "python",
   "name": "python3"
  },
  "language_info": {
   "codemirror_mode": {
    "name": "ipython",
    "version": 3
   },
   "file_extension": ".py",
   "mimetype": "text/x-python",
   "name": "python",
   "nbconvert_exporter": "python",
   "pygments_lexer": "ipython3",
   "version": "3.6.5"
  }
 },
 "nbformat": 4,
 "nbformat_minor": 2
}
