{
 "cells": [
  {
   "cell_type": "markdown",
   "metadata": {},
   "source": [
    "<h2>A discussion of the background and description of the problem.</h2> "
   ]
  },
  {
   "cell_type": "markdown",
   "metadata": {},
   "source": [
    "Toronto is a vibrant city with many diverse cultures and a booming economy. The citizens of Toronto work hard, have busy lives, and look forward to time for socializing and relaxing. The bars in the Toronto are cater to many in its various neighbourhoods. Opening a bar in Toronto can be very risky so due diligence and planning is highly recommended to mitigate the risks. One of the highest value items in the due diligence review is location. \n",
    "\n",
    "The choice of location will depend on how the bar is to look, what the bar is going to contribute to the community, and the kind of clientele that is expected. Bars in Toronto appear to be more popular in certain neighbourhoods over others. The type of bars also tend to be close to another. This may be due to people preferring alternative choices in the case their first choice is not available, or proximity to their work or residence. The higher value Bar locations may also be located in neighbourhoods of more affluence. We will need to perform some analysis to determine where the best place to open a new bar would be."
   ]
  },
  {
   "cell_type": "code",
   "execution_count": null,
   "metadata": {},
   "outputs": [],
   "source": []
  }
 ],
 "metadata": {
  "kernelspec": {
   "display_name": "Python 3",
   "language": "python",
   "name": "python3"
  },
  "language_info": {
   "codemirror_mode": {
    "name": "ipython",
    "version": 3
   },
   "file_extension": ".py",
   "mimetype": "text/x-python",
   "name": "python",
   "nbconvert_exporter": "python",
   "pygments_lexer": "ipython3",
   "version": "3.6.5"
  }
 },
 "nbformat": 4,
 "nbformat_minor": 2
}
