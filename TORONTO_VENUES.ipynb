{
 "cells": [
  {
   "cell_type": "markdown",
   "metadata": {},
   "source": [
    "<h1>Import Functions</h1>"
   ]
  },
  {
   "cell_type": "code",
   "execution_count": 57,
   "metadata": {},
   "outputs": [],
   "source": [
    "from bs4 import BeautifulSoup\n",
    "import requests\n",
    "import pandas as pd"
   ]
  },
  {
   "cell_type": "markdown",
   "metadata": {},
   "source": [
    "<h1>Load Data</h1>"
   ]
  },
  {
   "cell_type": "code",
   "execution_count": 30,
   "metadata": {},
   "outputs": [],
   "source": [
    "source = requests.get('https://en.wikipedia.org/wiki/List_of_postal_codes_of_Canada:_M').text\n",
    "soup = BeautifulSoup(source,'lxml')  "
   ]
  },
  {
   "cell_type": "markdown",
   "metadata": {},
   "source": [
    "<h1>Load Column Headers</h1>"
   ]
  },
  {
   "cell_type": "code",
   "execution_count": 119,
   "metadata": {},
   "outputs": [
    {
     "name": "stdout",
     "output_type": "stream",
     "text": [
      "Empty DataFrame\n",
      "Columns: [Postcode, Borough, Neighbourhood]\n",
      "Index: []\n"
     ]
    }
   ],
   "source": [
    "headers = []\n",
    "i=0\n",
    "for th in soup.find_all('th'):\n",
    "    if i < 3:\n",
    "        headers.insert(i, th.text.replace('\\n','') )\n",
    "    i +=1\n",
    "#df = pd.DataFrame(columns=headers)\n",
    "#print(df)"
   ]
  },
  {
   "cell_type": "markdown",
   "metadata": {},
   "source": [
    "<h1>Load Data into DataFrame</h1>"
   ]
  },
  {
   "cell_type": "code",
   "execution_count": 234,
   "metadata": {},
   "outputs": [
    {
     "name": "stdout",
     "output_type": "stream",
     "text": [
      "   Postcode           Borough                     Neighbourhood\n",
      "2       M3A        North York                         Parkwoods\n",
      "3       M4A        North York                  Victoria Village\n",
      "4       M5A  Downtown Toronto         Harbourfront, Regent Park\n",
      "5       M6A        North York  Lawrence Heights, Lawrence Manor\n",
      "6       M7A      Queen's Park                      Queen's Park\n",
      "8       M9A         Etobicoke                  Islington Avenue\n",
      "9       M1B       Scarborough                    Rouge, Malvern\n",
      "11      M3B        North York                   Don Mills North\n",
      "12      M4B         East York   Woodbine Gardens, Parkview Hill\n",
      "13      M5B  Downtown Toronto          Ryerson, Garden District\n"
     ]
    }
   ],
   "source": [
    "html_rows = soup.find('tbody')\n",
    "y=0\n",
    "out_rows = []\n",
    "for tr in html_rows.find_all('tr'):\n",
    "    x=0\n",
    "    html_cols = []\n",
    "    for td in tr.find_all('td'):\n",
    "        html_cols.insert(x,td.text.replace('\\n',''))\n",
    "        x +=1\n",
    "    if len(html_cols) > 0:\n",
    "        #check if neighbourhood not assigned\n",
    "        if html_cols[2] == 'Not assigned':\n",
    "            html_cols[2] = html_cols[1]\n",
    "        # are we on the first record?\n",
    "        if y > 0 :\n",
    "            # make sure the previous record exists\n",
    "            if len(out_rows[y-1]) > 0:\n",
    "                # check for same postal code\n",
    "                if out_rows[y-1][0] == html_cols[0]:\n",
    "                    out_rows[y-1][2] = out_rows[y-1][2] + ', ' + html_cols[2]\n",
    "                else:\n",
    "                    out_rows.insert(y,html_cols)\n",
    "                    y +=1\n",
    "            else:\n",
    "                out_rows.insert(y,html_cols)\n",
    "                y +=1\n",
    "        else:\n",
    "            out_rows.insert(y,html_cols)\n",
    "            y +=1\n",
    "df = pd.DataFrame(out_rows)\n",
    "df.columns=headers\n",
    "df = df[df.Borough != 'Not assigned']\n",
    "print(df.head(10))"
   ]
  },
  {
   "cell_type": "markdown",
   "metadata": {},
   "source": [
    "<h1>View the DataFrame Shape</h1>"
   ]
  },
  {
   "cell_type": "code",
   "execution_count": 235,
   "metadata": {},
   "outputs": [
    {
     "data": {
      "text/plain": [
       "(103, 3)"
      ]
     },
     "execution_count": 235,
     "metadata": {},
     "output_type": "execute_result"
    }
   ],
   "source": [
    "df.shape"
   ]
  },
  {
   "cell_type": "code",
   "execution_count": null,
   "metadata": {},
   "outputs": [],
   "source": []
  }
 ],
 "metadata": {
  "kernelspec": {
   "display_name": "Python 3",
   "language": "python",
   "name": "python3"
  },
  "language_info": {
   "codemirror_mode": {
    "name": "ipython",
    "version": 3
   },
   "file_extension": ".py",
   "mimetype": "text/x-python",
   "name": "python",
   "nbconvert_exporter": "python",
   "pygments_lexer": "ipython3",
   "version": "3.6.5"
  }
 },
 "nbformat": 4,
 "nbformat_minor": 2
}
